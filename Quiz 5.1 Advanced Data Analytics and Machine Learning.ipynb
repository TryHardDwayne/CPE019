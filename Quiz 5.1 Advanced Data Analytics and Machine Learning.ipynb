{
  "nbformat": 4,
  "nbformat_minor": 0,
  "metadata": {
    "colab": {
      "provenance": [],
      "authorship_tag": "ABX9TyPA/A3mbXAt2HI+SURuwJzk",
      "include_colab_link": true
    },
    "kernelspec": {
      "name": "python3",
      "display_name": "Python 3"
    },
    "language_info": {
      "name": "python"
    }
  },
  "cells": [
    {
      "cell_type": "markdown",
      "metadata": {
        "id": "view-in-github",
        "colab_type": "text"
      },
      "source": [
        "<a href=\"https://colab.research.google.com/github/TryHardDwayne/CPE019/blob/main/Quiz%205.1%20Advanced%20Data%20Analytics%20and%20Machine%20Learning.ipynb\" target=\"_parent\"><img src=\"https://colab.research.google.com/assets/colab-badge.svg\" alt=\"Open In Colab\"/></a>"
      ]
    },
    {
      "cell_type": "markdown",
      "source": [
        "Name: Dwayne Ybrik C. Layco\n",
        "\n",
        "Course and Section: CPE019-CPE32S4\n",
        "\n",
        "Instructor: Doctor Richard Monreal"
      ],
      "metadata": {
        "id": "NNxTaSrLabnH"
      }
    },
    {
      "cell_type": "code",
      "execution_count": null,
      "metadata": {
        "id": "m8xikA-2aVF_"
      },
      "outputs": [],
      "source": [
        "import numpy as np\n",
        "import pandas as pd"
      ]
    },
    {
      "cell_type": "markdown",
      "source": [
        "SET A\n",
        "\n",
        "Write a Python program using Pandas to count the number of rows and columns of a DataFrame."
      ],
      "metadata": {
        "id": "ZLylrkHEbIw9"
      }
    },
    {
      "cell_type": "code",
      "source": [
        "import pandas as pd\n",
        "import numpy as np\n",
        "\n",
        "# Exam data\n",
        "exam_data = {\n",
        "    'name': ['Anastasia', 'Dima', 'Katherine', 'James', 'Emily', 'Michael', 'Matthew', 'Laura', 'Kevin', 'Jonas'],\n",
        "    'score': [12.5, 9, 16.5, np.nan, 9, 20, 14.5, np.nan, 8, 19],\n",
        "    'attempts': [1, 3, 2, 3, 2, 3, 1, 1, 2, 1],\n",
        "    'qualify': ['yes', 'no', 'yes', 'no', 'no', 'yes', 'yes', 'no', 'no', 'yes']\n",
        "}\n",
        "labels = ['a', 'b', 'c', 'd', 'e', 'f', 'g', 'h', 'i', 'j']\n",
        "\n",
        "# Create a DataFrame\n",
        "df = pd.DataFrame(exam_data, index=labels)\n",
        "\n",
        "# Count the number of rows and columns\n",
        "num_rows = df.shape[0]\n",
        "num_columns = df.shape[1]\n",
        "\n",
        "print(f'Number of rows: {num_rows}')\n",
        "print(f'Number of columns: {num_columns}')\n"
      ],
      "metadata": {
        "colab": {
          "base_uri": "https://localhost:8080/"
        },
        "id": "c_svm2L0bhud",
        "outputId": "2dd9cd18-535b-4d4d-bf0d-bd42e1a38a6e"
      },
      "execution_count": 3,
      "outputs": [
        {
          "output_type": "stream",
          "name": "stdout",
          "text": [
            "Number of rows: 10\n",
            "Number of columns: 4\n"
          ]
        }
      ]
    },
    {
      "cell_type": "markdown",
      "source": [
        "Conclusion:\n",
        "\n",
        "- This program shows how to create a DataFrame from the given exam_data and labels, then count the number of rows and columns using the shape attribute. The program's output will show the number of rows and columns in the DataFrame."
      ],
      "metadata": {
        "id": "w940jX7sc3I9"
      }
    }
  ]
}